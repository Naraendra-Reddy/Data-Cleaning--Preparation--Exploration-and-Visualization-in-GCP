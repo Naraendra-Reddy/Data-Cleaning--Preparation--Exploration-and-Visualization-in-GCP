{
 "cells": [
  {
   "cell_type": "markdown",
   "id": "4c7679b4",
   "metadata": {},
   "source": [
    "# Data Cleaning, Preparation, Exploration and Visualization in GCP"
   ]
  },
  {
   "cell_type": "markdown",
   "id": "6b74ddde",
   "metadata": {},
   "source": [
    "This notebook cleans and analyzes data and that data is in turn used to produce a report/dashboard that reviews insurance claims against US airports."
   ]
  },
  {
   "cell_type": "code",
   "execution_count": 1,
   "id": "0c6a41ed",
   "metadata": {},
   "outputs": [],
   "source": [
    "# Importing all the necessary libraries\n",
    "import pandas as pd\n",
    "import numpy as np\n",
    "import matplotlib.pyplot as plt"
   ]
  },
  {
   "cell_type": "code",
   "execution_count": 3,
   "id": "95816bb6",
   "metadata": {},
   "outputs": [
    {
     "name": "stderr",
     "output_type": "stream",
     "text": [
      "C:\\Users\\narae\\anaconda3\\lib\\site-packages\\IPython\\core\\interactiveshell.py:3165: DtypeWarning: Columns (0,11,12) have mixed types.Specify dtype option on import or set low_memory=False.\n",
      "  has_raised = await self.run_ast_nodes(code_ast.body, cell_name,\n"
     ]
    }
   ],
   "source": [
    "# Loading the dataset into a Pandas DataFrame\n",
    "df= pd.read_csv(\"../Downloads/claimsfile.csv\")"
   ]
  },
  {
   "cell_type": "code",
   "execution_count": 4,
   "id": "803e4812",
   "metadata": {},
   "outputs": [
    {
     "data": {
      "text/html": [
       "<div>\n",
       "<style scoped>\n",
       "    .dataframe tbody tr th:only-of-type {\n",
       "        vertical-align: middle;\n",
       "    }\n",
       "\n",
       "    .dataframe tbody tr th {\n",
       "        vertical-align: top;\n",
       "    }\n",
       "\n",
       "    .dataframe thead th {\n",
       "        text-align: right;\n",
       "    }\n",
       "</style>\n",
       "<table border=\"1\" class=\"dataframe\">\n",
       "  <thead>\n",
       "    <tr style=\"text-align: right;\">\n",
       "      <th></th>\n",
       "      <th>Claim Number</th>\n",
       "      <th>Date Received</th>\n",
       "      <th>Incident Date</th>\n",
       "      <th>Airport Code</th>\n",
       "      <th>Airport Name</th>\n",
       "      <th>Airline Name</th>\n",
       "      <th>Claim Type</th>\n",
       "      <th>Claim Site</th>\n",
       "      <th>Item</th>\n",
       "      <th>Claim Amount</th>\n",
       "      <th>Status</th>\n",
       "      <th>Close Amount</th>\n",
       "      <th>Disposition</th>\n",
       "    </tr>\n",
       "  </thead>\n",
       "  <tbody>\n",
       "    <tr>\n",
       "      <th>0</th>\n",
       "      <td>0909802M</td>\n",
       "      <td>4-Jan-02</td>\n",
       "      <td>12/12/2002 0:00</td>\n",
       "      <td>EWR</td>\n",
       "      <td>Newark International Airport</td>\n",
       "      <td>Continental Airlines</td>\n",
       "      <td>Property Damage</td>\n",
       "      <td>Checkpoint</td>\n",
       "      <td>Other</td>\n",
       "      <td>$350.00</td>\n",
       "      <td>Approved</td>\n",
       "      <td>$350.00</td>\n",
       "      <td>Approve in Full</td>\n",
       "    </tr>\n",
       "    <tr>\n",
       "      <th>1</th>\n",
       "      <td>0202417M</td>\n",
       "      <td>2-Feb-02</td>\n",
       "      <td>1/16/2004 0:00</td>\n",
       "      <td>SEA</td>\n",
       "      <td>Seattle-Tacoma International</td>\n",
       "      <td>NaN</td>\n",
       "      <td>Property Damage</td>\n",
       "      <td>Checked Baggage</td>\n",
       "      <td>Luggage (all types including footlockers)</td>\n",
       "      <td>$100.00</td>\n",
       "      <td>Settled</td>\n",
       "      <td>$50.00</td>\n",
       "      <td>Settle</td>\n",
       "    </tr>\n",
       "    <tr>\n",
       "      <th>2</th>\n",
       "      <td>0202445M</td>\n",
       "      <td>4-Feb-02</td>\n",
       "      <td>11/26/2003 0:00</td>\n",
       "      <td>STL</td>\n",
       "      <td>Lambert St. Louis International</td>\n",
       "      <td>American Airlines</td>\n",
       "      <td>Property Damage</td>\n",
       "      <td>Checked Baggage</td>\n",
       "      <td>Cell Phones</td>\n",
       "      <td>$278.88</td>\n",
       "      <td>Settled</td>\n",
       "      <td>$227.92</td>\n",
       "      <td>Settle</td>\n",
       "    </tr>\n",
       "    <tr>\n",
       "      <th>3</th>\n",
       "      <td>0909816M</td>\n",
       "      <td>7-Feb-02</td>\n",
       "      <td>1/6/2003 0:00</td>\n",
       "      <td>MIA</td>\n",
       "      <td>Miami International Airport</td>\n",
       "      <td>American Airlines</td>\n",
       "      <td>Property Damage</td>\n",
       "      <td>Checkpoint</td>\n",
       "      <td>Luggage (all types including footlockers)</td>\n",
       "      <td>$50.00</td>\n",
       "      <td>Approved</td>\n",
       "      <td>$50.00</td>\n",
       "      <td>Approve in Full</td>\n",
       "    </tr>\n",
       "    <tr>\n",
       "      <th>4</th>\n",
       "      <td>2005032379513</td>\n",
       "      <td>18-Feb-02</td>\n",
       "      <td>2/5/2005 0:00</td>\n",
       "      <td>MCO</td>\n",
       "      <td>Orlando International Airport</td>\n",
       "      <td>Delta (Song)</td>\n",
       "      <td>Property Damage</td>\n",
       "      <td>Checkpoint</td>\n",
       "      <td>Baby - Strollers; car seats; playpen; etc.</td>\n",
       "      <td>$84.79</td>\n",
       "      <td>Approved</td>\n",
       "      <td>$84.79</td>\n",
       "      <td>Approve in Full</td>\n",
       "    </tr>\n",
       "  </tbody>\n",
       "</table>\n",
       "</div>"
      ],
      "text/plain": [
       "    Claim Number Date Received    Incident Date Airport Code  \\\n",
       "0       0909802M      4-Jan-02  12/12/2002 0:00          EWR   \n",
       "1       0202417M      2-Feb-02   1/16/2004 0:00          SEA   \n",
       "2       0202445M      4-Feb-02  11/26/2003 0:00          STL   \n",
       "3       0909816M      7-Feb-02    1/6/2003 0:00          MIA   \n",
       "4  2005032379513     18-Feb-02    2/5/2005 0:00          MCO   \n",
       "\n",
       "                      Airport Name          Airline Name       Claim Type  \\\n",
       "0     Newark International Airport  Continental Airlines  Property Damage   \n",
       "1     Seattle-Tacoma International                   NaN  Property Damage   \n",
       "2  Lambert St. Louis International     American Airlines  Property Damage   \n",
       "3      Miami International Airport     American Airlines  Property Damage   \n",
       "4    Orlando International Airport          Delta (Song)  Property Damage   \n",
       "\n",
       "        Claim Site                                        Item Claim Amount  \\\n",
       "0       Checkpoint                                       Other     $350.00    \n",
       "1  Checked Baggage   Luggage (all types including footlockers)     $100.00    \n",
       "2  Checked Baggage                                 Cell Phones     $278.88    \n",
       "3       Checkpoint   Luggage (all types including footlockers)      $50.00    \n",
       "4       Checkpoint  Baby - Strollers; car seats; playpen; etc.      $84.79    \n",
       "\n",
       "     Status Close Amount      Disposition  \n",
       "0  Approved     $350.00   Approve in Full  \n",
       "1   Settled      $50.00            Settle  \n",
       "2   Settled     $227.92            Settle  \n",
       "3  Approved      $50.00   Approve in Full  \n",
       "4  Approved      $84.79   Approve in Full  "
      ]
     },
     "execution_count": 4,
     "metadata": {},
     "output_type": "execute_result"
    }
   ],
   "source": [
    "#Examining the first 5 rows of the Dataset to understand the type Data that is present in it\n",
    "df.head()"
   ]
  },
  {
   "cell_type": "markdown",
   "id": "f19c7e4f",
   "metadata": {},
   "source": [
    "## Preprocessing and cleaning the dataset"
   ]
  },
  {
   "cell_type": "code",
   "execution_count": 6,
   "id": "999a5291",
   "metadata": {},
   "outputs": [],
   "source": [
    "# Deleting rows with duplicate values\n",
    "df.drop_duplicates(inplace=True)\n"
   ]
  },
  {
   "cell_type": "code",
   "execution_count": 7,
   "id": "cf7e99ef",
   "metadata": {},
   "outputs": [
    {
     "data": {
      "text/plain": [
       "Claim Number         0\n",
       "Date Received      263\n",
       "Incident Date     2183\n",
       "Airport Code      8523\n",
       "Airport Name      8523\n",
       "Airline Name     34373\n",
       "Claim Type        7913\n",
       "Claim Site         740\n",
       "Item              3966\n",
       "Claim Amount      4043\n",
       "Status               5\n",
       "Close Amount     68951\n",
       "Disposition      72907\n",
       "dtype: int64"
      ]
     },
     "execution_count": 7,
     "metadata": {},
     "output_type": "execute_result"
    }
   ],
   "source": [
    "# Checking all the null values in each column\n",
    "df.isnull().sum()"
   ]
  },
  {
   "cell_type": "code",
   "execution_count": 8,
   "id": "63a30b9f",
   "metadata": {},
   "outputs": [],
   "source": [
    "# Deleting rows with 2 or more null values in them\n",
    "df.dropna(axis=0,thresh=2,inplace=True)"
   ]
  },
  {
   "cell_type": "code",
   "execution_count": 9,
   "id": "9a87d081",
   "metadata": {},
   "outputs": [],
   "source": [
    "# Replacing all the values with \"-\" in the dataset with NaN values to make it easier.\n",
    "df=df.replace('^-',np.nan,regex=True)"
   ]
  },
  {
   "cell_type": "code",
   "execution_count": 10,
   "id": "e2ef1f3d",
   "metadata": {},
   "outputs": [
    {
     "data": {
      "text/plain": [
       "247944"
      ]
     },
     "execution_count": 10,
     "metadata": {},
     "output_type": "execute_result"
    }
   ],
   "source": [
    "# Total Nan values\n",
    "df.isnull().sum().sum()"
   ]
  },
  {
   "cell_type": "code",
   "execution_count": 11,
   "id": "b545b1c4",
   "metadata": {},
   "outputs": [
    {
     "data": {
      "text/plain": [
       "Index(['Claim Number', 'Date Received', 'Incident Date', 'Airport Code',\n",
       "       'Airport Name', 'Airline Name', 'Claim Type', 'Claim Site', 'Item',\n",
       "       'Claim Amount', 'Status', 'Close Amount', 'Disposition'],\n",
       "      dtype='object')"
      ]
     },
     "execution_count": 11,
     "metadata": {},
     "output_type": "execute_result"
    }
   ],
   "source": [
    "df.columns"
   ]
  },
  {
   "cell_type": "markdown",
   "id": "c20e0e45",
   "metadata": {},
   "source": [
    "In the below cell, we replace the null values with appropriate replacemnet values. For **dates**, we replaced with the values from the previous row. Doing this will not affect the dataset as we have relatively much lower number of null values in them. For the **airport code,airport name,airline name, claim type, claim site, item, status columns**, we replace the Nan values with \"Unknown\". When we examine the dataset, which is quite messy, the empty rows are present only if they were unsure why their claim was cancelled or revoked. Hence, we put \"Unknown\". The values \"denied\",\"settled\", \"approved\" are only present if they were denied, settled or approved respectively. There is no ambiguity there. The rest either have been left empty or have \" - \" values in them.  The Disposition Nan values have been replaced with \"Cancelled\" as they have only been left empty if the status was not approved, denied or settled. So irrespective of what actually happened, we can assume they were cancelled"
   ]
  },
  {
   "cell_type": "code",
   "execution_count": 12,
   "id": "0aa5b923",
   "metadata": {},
   "outputs": [],
   "source": [
    "df['Date Received'].fillna(method='ffill', inplace=True)\n",
    "df['Incident Date'].fillna(method='ffill', inplace=True)\n",
    "df['Incident Date'].fillna(method='ffill', inplace=True)\n",
    "df['Airport Code'].fillna('Unknown value',inplace=True)\n",
    "df['Airport Name'].fillna(\"Unknown\",inplace=True)\n",
    "df['Airline Name'].fillna(\"Unknown\",inplace=True)\n",
    "df['Claim Type'].fillna(\"Unknown\",inplace=True)\n",
    "df['Claim Site'].fillna(\"Unknown\",inplace=True)\n",
    "df['Item'].fillna(\"Unknown\",inplace=True)\n",
    "df['Claim Amount'].fillna(0.00,inplace=True)\n",
    "df['Close Amount'].fillna(0.00,inplace=True)\n",
    "df['Disposition'].fillna(\"Cancelled\",inplace=True)\n",
    "df[\"Status\"].fillna(\"Unknown\",inplace=True)"
   ]
  },
  {
   "cell_type": "code",
   "execution_count": 13,
   "id": "dabf9060",
   "metadata": {},
   "outputs": [
    {
     "data": {
      "text/html": [
       "<div>\n",
       "<style scoped>\n",
       "    .dataframe tbody tr th:only-of-type {\n",
       "        vertical-align: middle;\n",
       "    }\n",
       "\n",
       "    .dataframe tbody tr th {\n",
       "        vertical-align: top;\n",
       "    }\n",
       "\n",
       "    .dataframe thead th {\n",
       "        text-align: right;\n",
       "    }\n",
       "</style>\n",
       "<table border=\"1\" class=\"dataframe\">\n",
       "  <thead>\n",
       "    <tr style=\"text-align: right;\">\n",
       "      <th></th>\n",
       "      <th>Claim Number</th>\n",
       "      <th>Date Received</th>\n",
       "      <th>Incident Date</th>\n",
       "      <th>Airport Code</th>\n",
       "      <th>Airport Name</th>\n",
       "      <th>Airline Name</th>\n",
       "      <th>Claim Type</th>\n",
       "      <th>Claim Site</th>\n",
       "      <th>Item</th>\n",
       "      <th>Claim Amount</th>\n",
       "      <th>Status</th>\n",
       "      <th>Close Amount</th>\n",
       "      <th>Disposition</th>\n",
       "    </tr>\n",
       "  </thead>\n",
       "  <tbody>\n",
       "    <tr>\n",
       "      <th>0</th>\n",
       "      <td>0909802M</td>\n",
       "      <td>4-Jan-02</td>\n",
       "      <td>12/12/2002 0:00</td>\n",
       "      <td>EWR</td>\n",
       "      <td>Newark International Airport</td>\n",
       "      <td>Continental Airlines</td>\n",
       "      <td>Property Damage</td>\n",
       "      <td>Checkpoint</td>\n",
       "      <td>Other</td>\n",
       "      <td>$350.00</td>\n",
       "      <td>Approved</td>\n",
       "      <td>$350.00</td>\n",
       "      <td>Approve in Full</td>\n",
       "    </tr>\n",
       "    <tr>\n",
       "      <th>1</th>\n",
       "      <td>0202417M</td>\n",
       "      <td>2-Feb-02</td>\n",
       "      <td>1/16/2004 0:00</td>\n",
       "      <td>SEA</td>\n",
       "      <td>Seattle-Tacoma International</td>\n",
       "      <td>Unknown</td>\n",
       "      <td>Property Damage</td>\n",
       "      <td>Checked Baggage</td>\n",
       "      <td>Luggage (all types including footlockers)</td>\n",
       "      <td>$100.00</td>\n",
       "      <td>Settled</td>\n",
       "      <td>$50.00</td>\n",
       "      <td>Settle</td>\n",
       "    </tr>\n",
       "    <tr>\n",
       "      <th>2</th>\n",
       "      <td>0202445M</td>\n",
       "      <td>4-Feb-02</td>\n",
       "      <td>11/26/2003 0:00</td>\n",
       "      <td>STL</td>\n",
       "      <td>Lambert St. Louis International</td>\n",
       "      <td>American Airlines</td>\n",
       "      <td>Property Damage</td>\n",
       "      <td>Checked Baggage</td>\n",
       "      <td>Cell Phones</td>\n",
       "      <td>$278.88</td>\n",
       "      <td>Settled</td>\n",
       "      <td>$227.92</td>\n",
       "      <td>Settle</td>\n",
       "    </tr>\n",
       "    <tr>\n",
       "      <th>3</th>\n",
       "      <td>0909816M</td>\n",
       "      <td>7-Feb-02</td>\n",
       "      <td>1/6/2003 0:00</td>\n",
       "      <td>MIA</td>\n",
       "      <td>Miami International Airport</td>\n",
       "      <td>American Airlines</td>\n",
       "      <td>Property Damage</td>\n",
       "      <td>Checkpoint</td>\n",
       "      <td>Luggage (all types including footlockers)</td>\n",
       "      <td>$50.00</td>\n",
       "      <td>Approved</td>\n",
       "      <td>$50.00</td>\n",
       "      <td>Approve in Full</td>\n",
       "    </tr>\n",
       "    <tr>\n",
       "      <th>4</th>\n",
       "      <td>2005032379513</td>\n",
       "      <td>18-Feb-02</td>\n",
       "      <td>2/5/2005 0:00</td>\n",
       "      <td>MCO</td>\n",
       "      <td>Orlando International Airport</td>\n",
       "      <td>Delta (Song)</td>\n",
       "      <td>Property Damage</td>\n",
       "      <td>Checkpoint</td>\n",
       "      <td>Baby - Strollers; car seats; playpen; etc.</td>\n",
       "      <td>$84.79</td>\n",
       "      <td>Approved</td>\n",
       "      <td>$84.79</td>\n",
       "      <td>Approve in Full</td>\n",
       "    </tr>\n",
       "  </tbody>\n",
       "</table>\n",
       "</div>"
      ],
      "text/plain": [
       "    Claim Number Date Received    Incident Date Airport Code  \\\n",
       "0       0909802M      4-Jan-02  12/12/2002 0:00          EWR   \n",
       "1       0202417M      2-Feb-02   1/16/2004 0:00          SEA   \n",
       "2       0202445M      4-Feb-02  11/26/2003 0:00          STL   \n",
       "3       0909816M      7-Feb-02    1/6/2003 0:00          MIA   \n",
       "4  2005032379513     18-Feb-02    2/5/2005 0:00          MCO   \n",
       "\n",
       "                      Airport Name          Airline Name       Claim Type  \\\n",
       "0     Newark International Airport  Continental Airlines  Property Damage   \n",
       "1     Seattle-Tacoma International               Unknown  Property Damage   \n",
       "2  Lambert St. Louis International     American Airlines  Property Damage   \n",
       "3      Miami International Airport     American Airlines  Property Damage   \n",
       "4    Orlando International Airport          Delta (Song)  Property Damage   \n",
       "\n",
       "        Claim Site                                        Item Claim Amount  \\\n",
       "0       Checkpoint                                       Other     $350.00    \n",
       "1  Checked Baggage   Luggage (all types including footlockers)     $100.00    \n",
       "2  Checked Baggage                                 Cell Phones     $278.88    \n",
       "3       Checkpoint   Luggage (all types including footlockers)      $50.00    \n",
       "4       Checkpoint  Baby - Strollers; car seats; playpen; etc.      $84.79    \n",
       "\n",
       "     Status Close Amount      Disposition  \n",
       "0  Approved     $350.00   Approve in Full  \n",
       "1   Settled      $50.00            Settle  \n",
       "2   Settled     $227.92            Settle  \n",
       "3  Approved      $50.00   Approve in Full  \n",
       "4  Approved      $84.79   Approve in Full  "
      ]
     },
     "execution_count": 13,
     "metadata": {},
     "output_type": "execute_result"
    }
   ],
   "source": [
    "df.head()"
   ]
  },
  {
   "cell_type": "code",
   "execution_count": 14,
   "id": "97c79a06",
   "metadata": {},
   "outputs": [
    {
     "data": {
      "text/html": [
       "<div>\n",
       "<style scoped>\n",
       "    .dataframe tbody tr th:only-of-type {\n",
       "        vertical-align: middle;\n",
       "    }\n",
       "\n",
       "    .dataframe tbody tr th {\n",
       "        vertical-align: top;\n",
       "    }\n",
       "\n",
       "    .dataframe thead th {\n",
       "        text-align: right;\n",
       "    }\n",
       "</style>\n",
       "<table border=\"1\" class=\"dataframe\">\n",
       "  <thead>\n",
       "    <tr style=\"text-align: right;\">\n",
       "      <th></th>\n",
       "      <th>Claim Number</th>\n",
       "      <th>Date Received</th>\n",
       "      <th>Incident Date</th>\n",
       "      <th>Airport Code</th>\n",
       "      <th>Airport Name</th>\n",
       "      <th>Airline Name</th>\n",
       "      <th>Claim Type</th>\n",
       "      <th>Claim Site</th>\n",
       "      <th>Item</th>\n",
       "      <th>Claim Amount</th>\n",
       "      <th>Status</th>\n",
       "      <th>Close Amount</th>\n",
       "      <th>Disposition</th>\n",
       "    </tr>\n",
       "  </thead>\n",
       "  <tbody>\n",
       "    <tr>\n",
       "      <th>204262</th>\n",
       "      <td>2015120427297</td>\n",
       "      <td>20-Nov-15</td>\n",
       "      <td>16-Oct-15</td>\n",
       "      <td>Unknown value</td>\n",
       "      <td>Unknown</td>\n",
       "      <td>Unknown</td>\n",
       "      <td>Property Damage</td>\n",
       "      <td>Checked Baggage</td>\n",
       "      <td>Baggage/Cases/Purses; Books; Magazines &amp; Other...</td>\n",
       "      <td>0.0</td>\n",
       "      <td>Unknown</td>\n",
       "      <td>0.0</td>\n",
       "      <td>Cancelled</td>\n",
       "    </tr>\n",
       "    <tr>\n",
       "      <th>204263</th>\n",
       "      <td>2015123027969</td>\n",
       "      <td>17-Dec-15</td>\n",
       "      <td>2-Dec-15</td>\n",
       "      <td>Unknown value</td>\n",
       "      <td>Unknown</td>\n",
       "      <td>Unknown</td>\n",
       "      <td>Property Damage</td>\n",
       "      <td>Checked Baggage</td>\n",
       "      <td>Audio/Video; Home Decor</td>\n",
       "      <td>0.0</td>\n",
       "      <td>Unknown</td>\n",
       "      <td>0.0</td>\n",
       "      <td>Cancelled</td>\n",
       "    </tr>\n",
       "    <tr>\n",
       "      <th>204264</th>\n",
       "      <td>2016010428072</td>\n",
       "      <td>22-Dec-15</td>\n",
       "      <td>20-Dec-15</td>\n",
       "      <td>Unknown value</td>\n",
       "      <td>Unknown</td>\n",
       "      <td>Unknown</td>\n",
       "      <td>Passenger Property Loss</td>\n",
       "      <td>Checked Baggage</td>\n",
       "      <td>Clothing</td>\n",
       "      <td>0.0</td>\n",
       "      <td>Unknown</td>\n",
       "      <td>0.0</td>\n",
       "      <td>Cancelled</td>\n",
       "    </tr>\n",
       "    <tr>\n",
       "      <th>204265</th>\n",
       "      <td>2016011328300</td>\n",
       "      <td>30-Dec-15</td>\n",
       "      <td>28-Dec-15</td>\n",
       "      <td>Unknown value</td>\n",
       "      <td>Unknown</td>\n",
       "      <td>Unknown</td>\n",
       "      <td>Passenger Property Loss</td>\n",
       "      <td>Checked Baggage</td>\n",
       "      <td>Tools &amp; Home Improvement Supplies</td>\n",
       "      <td>0.0</td>\n",
       "      <td>Unknown</td>\n",
       "      <td>0.0</td>\n",
       "      <td>Cancelled</td>\n",
       "    </tr>\n",
       "    <tr>\n",
       "      <th>204266</th>\n",
       "      <td>2015123128015</td>\n",
       "      <td>31-Dec-15</td>\n",
       "      <td>23-Nov-15</td>\n",
       "      <td>Unknown value</td>\n",
       "      <td>Unknown</td>\n",
       "      <td>Unknown</td>\n",
       "      <td>Passenger Property Loss</td>\n",
       "      <td>Checkpoint</td>\n",
       "      <td>Personal Accessories</td>\n",
       "      <td>0.0</td>\n",
       "      <td>Unknown</td>\n",
       "      <td>0.0</td>\n",
       "      <td>Cancelled</td>\n",
       "    </tr>\n",
       "  </tbody>\n",
       "</table>\n",
       "</div>"
      ],
      "text/plain": [
       "         Claim Number Date Received Incident Date   Airport Code Airport Name  \\\n",
       "204262  2015120427297     20-Nov-15     16-Oct-15  Unknown value      Unknown   \n",
       "204263  2015123027969     17-Dec-15      2-Dec-15  Unknown value      Unknown   \n",
       "204264  2016010428072     22-Dec-15     20-Dec-15  Unknown value      Unknown   \n",
       "204265  2016011328300     30-Dec-15     28-Dec-15  Unknown value      Unknown   \n",
       "204266  2015123128015     31-Dec-15     23-Nov-15  Unknown value      Unknown   \n",
       "\n",
       "       Airline Name               Claim Type       Claim Site  \\\n",
       "204262      Unknown          Property Damage  Checked Baggage   \n",
       "204263      Unknown          Property Damage  Checked Baggage   \n",
       "204264      Unknown  Passenger Property Loss  Checked Baggage   \n",
       "204265      Unknown  Passenger Property Loss  Checked Baggage   \n",
       "204266      Unknown  Passenger Property Loss       Checkpoint   \n",
       "\n",
       "                                                     Item Claim Amount  \\\n",
       "204262  Baggage/Cases/Purses; Books; Magazines & Other...          0.0   \n",
       "204263                            Audio/Video; Home Decor          0.0   \n",
       "204264                                           Clothing          0.0   \n",
       "204265                  Tools & Home Improvement Supplies          0.0   \n",
       "204266                               Personal Accessories          0.0   \n",
       "\n",
       "         Status Close Amount Disposition  \n",
       "204262  Unknown          0.0   Cancelled  \n",
       "204263  Unknown          0.0   Cancelled  \n",
       "204264  Unknown          0.0   Cancelled  \n",
       "204265  Unknown          0.0   Cancelled  \n",
       "204266  Unknown          0.0   Cancelled  "
      ]
     },
     "execution_count": 14,
     "metadata": {},
     "output_type": "execute_result"
    }
   ],
   "source": [
    "\n",
    "df.tail()"
   ]
  },
  {
   "cell_type": "code",
   "execution_count": 15,
   "id": "e6d1fe96",
   "metadata": {},
   "outputs": [
    {
     "data": {
      "text/html": [
       "<div>\n",
       "<style scoped>\n",
       "    .dataframe tbody tr th:only-of-type {\n",
       "        vertical-align: middle;\n",
       "    }\n",
       "\n",
       "    .dataframe tbody tr th {\n",
       "        vertical-align: top;\n",
       "    }\n",
       "\n",
       "    .dataframe thead th {\n",
       "        text-align: right;\n",
       "    }\n",
       "</style>\n",
       "<table border=\"1\" class=\"dataframe\">\n",
       "  <thead>\n",
       "    <tr style=\"text-align: right;\">\n",
       "      <th></th>\n",
       "      <th>Claim Number</th>\n",
       "      <th>Date Received</th>\n",
       "      <th>Incident Date</th>\n",
       "      <th>Airport Code</th>\n",
       "      <th>Airport Name</th>\n",
       "      <th>Airline Name</th>\n",
       "      <th>Claim Type</th>\n",
       "      <th>Claim Site</th>\n",
       "      <th>Item</th>\n",
       "      <th>Claim Amount</th>\n",
       "      <th>Status</th>\n",
       "      <th>Close Amount</th>\n",
       "      <th>Disposition</th>\n",
       "    </tr>\n",
       "  </thead>\n",
       "  <tbody>\n",
       "    <tr>\n",
       "      <th>0</th>\n",
       "      <td>0909802M</td>\n",
       "      <td>4-Jan-02</td>\n",
       "      <td>12/12/2002 0:00</td>\n",
       "      <td>EWR</td>\n",
       "      <td>Newark International Airport</td>\n",
       "      <td>Continental Airlines</td>\n",
       "      <td>Property Damage</td>\n",
       "      <td>Checkpoint</td>\n",
       "      <td>Other</td>\n",
       "      <td>350.00</td>\n",
       "      <td>Approved</td>\n",
       "      <td>350.00</td>\n",
       "      <td>Approve in Full</td>\n",
       "    </tr>\n",
       "    <tr>\n",
       "      <th>1</th>\n",
       "      <td>0202417M</td>\n",
       "      <td>2-Feb-02</td>\n",
       "      <td>1/16/2004 0:00</td>\n",
       "      <td>SEA</td>\n",
       "      <td>Seattle-Tacoma International</td>\n",
       "      <td>Unknown</td>\n",
       "      <td>Property Damage</td>\n",
       "      <td>Checked Baggage</td>\n",
       "      <td>Luggage (all types including footlockers)</td>\n",
       "      <td>100.00</td>\n",
       "      <td>Settled</td>\n",
       "      <td>50.00</td>\n",
       "      <td>Settle</td>\n",
       "    </tr>\n",
       "    <tr>\n",
       "      <th>2</th>\n",
       "      <td>0202445M</td>\n",
       "      <td>4-Feb-02</td>\n",
       "      <td>11/26/2003 0:00</td>\n",
       "      <td>STL</td>\n",
       "      <td>Lambert St. Louis International</td>\n",
       "      <td>American Airlines</td>\n",
       "      <td>Property Damage</td>\n",
       "      <td>Checked Baggage</td>\n",
       "      <td>Cell Phones</td>\n",
       "      <td>278.88</td>\n",
       "      <td>Settled</td>\n",
       "      <td>227.92</td>\n",
       "      <td>Settle</td>\n",
       "    </tr>\n",
       "    <tr>\n",
       "      <th>3</th>\n",
       "      <td>0909816M</td>\n",
       "      <td>7-Feb-02</td>\n",
       "      <td>1/6/2003 0:00</td>\n",
       "      <td>MIA</td>\n",
       "      <td>Miami International Airport</td>\n",
       "      <td>American Airlines</td>\n",
       "      <td>Property Damage</td>\n",
       "      <td>Checkpoint</td>\n",
       "      <td>Luggage (all types including footlockers)</td>\n",
       "      <td>50.00</td>\n",
       "      <td>Approved</td>\n",
       "      <td>50.00</td>\n",
       "      <td>Approve in Full</td>\n",
       "    </tr>\n",
       "    <tr>\n",
       "      <th>4</th>\n",
       "      <td>2005032379513</td>\n",
       "      <td>18-Feb-02</td>\n",
       "      <td>2/5/2005 0:00</td>\n",
       "      <td>MCO</td>\n",
       "      <td>Orlando International Airport</td>\n",
       "      <td>Delta (Song)</td>\n",
       "      <td>Property Damage</td>\n",
       "      <td>Checkpoint</td>\n",
       "      <td>Baby - Strollers car seats playpen etc.</td>\n",
       "      <td>84.79</td>\n",
       "      <td>Approved</td>\n",
       "      <td>84.79</td>\n",
       "      <td>Approve in Full</td>\n",
       "    </tr>\n",
       "  </tbody>\n",
       "</table>\n",
       "</div>"
      ],
      "text/plain": [
       "    Claim Number Date Received    Incident Date Airport Code  \\\n",
       "0       0909802M      4-Jan-02  12/12/2002 0:00          EWR   \n",
       "1       0202417M      2-Feb-02   1/16/2004 0:00          SEA   \n",
       "2       0202445M      4-Feb-02  11/26/2003 0:00          STL   \n",
       "3       0909816M      7-Feb-02    1/6/2003 0:00          MIA   \n",
       "4  2005032379513     18-Feb-02    2/5/2005 0:00          MCO   \n",
       "\n",
       "                      Airport Name          Airline Name       Claim Type  \\\n",
       "0     Newark International Airport  Continental Airlines  Property Damage   \n",
       "1     Seattle-Tacoma International               Unknown  Property Damage   \n",
       "2  Lambert St. Louis International     American Airlines  Property Damage   \n",
       "3      Miami International Airport     American Airlines  Property Damage   \n",
       "4    Orlando International Airport          Delta (Song)  Property Damage   \n",
       "\n",
       "        Claim Site                                       Item Claim Amount  \\\n",
       "0       Checkpoint                                      Other      350.00    \n",
       "1  Checked Baggage  Luggage (all types including footlockers)      100.00    \n",
       "2  Checked Baggage                                Cell Phones      278.88    \n",
       "3       Checkpoint  Luggage (all types including footlockers)       50.00    \n",
       "4       Checkpoint    Baby - Strollers car seats playpen etc.       84.79    \n",
       "\n",
       "     Status Close Amount      Disposition  \n",
       "0  Approved      350.00   Approve in Full  \n",
       "1   Settled       50.00            Settle  \n",
       "2   Settled      227.92            Settle  \n",
       "3  Approved       50.00   Approve in Full  \n",
       "4  Approved       84.79   Approve in Full  "
      ]
     },
     "execution_count": 15,
     "metadata": {},
     "output_type": "execute_result"
    }
   ],
   "source": [
    "# Handling special characters in the cells. For example, $ or ; in the amount columns\n",
    "\n",
    "df=df.replace('\\$|;|,','',regex=True).astype(str)\n",
    "df['Claim Amount']=df['Claim Amount'].replace('nan','0.00',regex=True).astype(str)\n",
    "df.head()"
   ]
  },
  {
   "cell_type": "code",
   "execution_count": 31,
   "id": "129b4da6",
   "metadata": {},
   "outputs": [],
   "source": [
    "# Converting amounts to float and date values to datetime\n",
    "\n",
    "df=df.astype({'Claim Amount':float, 'Close Amount':float})\n",
    "df['Incident Date']=pd.to_datetime(df['Incident Date'],errors = 'coerce')\n",
    "df['Date Received']=pd.to_datetime(df['Date Received'],errors = 'coerce')"
   ]
  },
  {
   "cell_type": "code",
   "execution_count": 32,
   "id": "7b2f959d",
   "metadata": {},
   "outputs": [
    {
     "data": {
      "text/plain": [
       "numpy.datetime64"
      ]
     },
     "execution_count": 32,
     "metadata": {},
     "output_type": "execute_result"
    }
   ],
   "source": [
    "type(df['Incident Date'].values[0])"
   ]
  },
  {
   "cell_type": "code",
   "execution_count": 33,
   "id": "b8bc265b",
   "metadata": {},
   "outputs": [
    {
     "data": {
      "text/plain": [
       "numpy.datetime64"
      ]
     },
     "execution_count": 33,
     "metadata": {},
     "output_type": "execute_result"
    }
   ],
   "source": [
    "type(df['Date Received'].values[0])"
   ]
  },
  {
   "cell_type": "code",
   "execution_count": 17,
   "id": "e7082e33",
   "metadata": {},
   "outputs": [
    {
     "data": {
      "text/html": [
       "<div>\n",
       "<style scoped>\n",
       "    .dataframe tbody tr th:only-of-type {\n",
       "        vertical-align: middle;\n",
       "    }\n",
       "\n",
       "    .dataframe tbody tr th {\n",
       "        vertical-align: top;\n",
       "    }\n",
       "\n",
       "    .dataframe thead th {\n",
       "        text-align: right;\n",
       "    }\n",
       "</style>\n",
       "<table border=\"1\" class=\"dataframe\">\n",
       "  <thead>\n",
       "    <tr style=\"text-align: right;\">\n",
       "      <th></th>\n",
       "      <th>Claim Amount</th>\n",
       "      <th>Close Amount</th>\n",
       "    </tr>\n",
       "  </thead>\n",
       "  <tbody>\n",
       "    <tr>\n",
       "      <th>count</th>\n",
       "      <td>2.042610e+05</td>\n",
       "      <td>204261.00000</td>\n",
       "    </tr>\n",
       "    <tr>\n",
       "      <th>mean</th>\n",
       "      <td>1.477336e+07</td>\n",
       "      <td>65.11558</td>\n",
       "    </tr>\n",
       "    <tr>\n",
       "      <th>std</th>\n",
       "      <td>6.637890e+09</td>\n",
       "      <td>754.98190</td>\n",
       "    </tr>\n",
       "    <tr>\n",
       "      <th>min</th>\n",
       "      <td>0.000000e+00</td>\n",
       "      <td>0.00000</td>\n",
       "    </tr>\n",
       "    <tr>\n",
       "      <th>25%</th>\n",
       "      <td>1.095000e+01</td>\n",
       "      <td>0.00000</td>\n",
       "    </tr>\n",
       "    <tr>\n",
       "      <th>50%</th>\n",
       "      <td>9.842000e+01</td>\n",
       "      <td>0.00000</td>\n",
       "    </tr>\n",
       "    <tr>\n",
       "      <th>75%</th>\n",
       "      <td>3.090000e+02</td>\n",
       "      <td>30.00000</td>\n",
       "    </tr>\n",
       "    <tr>\n",
       "      <th>max</th>\n",
       "      <td>3.000000e+12</td>\n",
       "      <td>250000.00000</td>\n",
       "    </tr>\n",
       "  </tbody>\n",
       "</table>\n",
       "</div>"
      ],
      "text/plain": [
       "       Claim Amount  Close Amount\n",
       "count  2.042610e+05  204261.00000\n",
       "mean   1.477336e+07      65.11558\n",
       "std    6.637890e+09     754.98190\n",
       "min    0.000000e+00       0.00000\n",
       "25%    1.095000e+01       0.00000\n",
       "50%    9.842000e+01       0.00000\n",
       "75%    3.090000e+02      30.00000\n",
       "max    3.000000e+12  250000.00000"
      ]
     },
     "execution_count": 17,
     "metadata": {},
     "output_type": "execute_result"
    }
   ],
   "source": [
    "df.describe()"
   ]
  },
  {
   "cell_type": "code",
   "execution_count": 18,
   "id": "d03fa606",
   "metadata": {},
   "outputs": [
    {
     "data": {
      "text/plain": [
       "array([350.  ,  50.  , 227.92, ...,   0.  ,   0.  ,   0.  ])"
      ]
     },
     "execution_count": 18,
     "metadata": {},
     "output_type": "execute_result"
    }
   ],
   "source": [
    "closeamt_array=df['Close Amount'].to_numpy()\n",
    "closeamt_array"
   ]
  },
  {
   "cell_type": "code",
   "execution_count": 19,
   "id": "75b2c359",
   "metadata": {},
   "outputs": [
    {
     "name": "stdout",
     "output_type": "stream",
     "text": [
      "Passenger Property Loss\n"
     ]
    }
   ],
   "source": [
    "##1. What is the most common type of insurance claim?\n",
    "import statistics\n",
    "from statistics import mode\n",
    "a=df['Claim Type'].to_list()\n",
    "print(mode(a))"
   ]
  },
  {
   "cell_type": "code",
   "execution_count": 20,
   "id": "7c640e44",
   "metadata": {},
   "outputs": [
    {
     "name": "stdout",
     "output_type": "stream",
     "text": [
      "Checked Baggage\n"
     ]
    }
   ],
   "source": [
    "##2. Which claim site within the airport are claims most commonly filed for?\n",
    "a=df['Claim Site'].to_list()\n",
    "print(mode(a))"
   ]
  },
  {
   "cell_type": "code",
   "execution_count": 21,
   "id": "5b7743fe",
   "metadata": {},
   "outputs": [
    {
     "name": "stdout",
     "output_type": "stream",
     "text": [
      "Property Damage\n",
      "Passenger Property Loss\n",
      "Motor Vehicle\n",
      "Passenger Property Loss\n"
     ]
    }
   ],
   "source": [
    "##3. What type of claim is made most at each claim site?\n",
    "a=df['Claim Type']\n",
    "a.index=df['Claim Site']\n",
    "print(mode(a['Checkpoint']))\n",
    "print(mode(a['Checked Baggage']))\n",
    "print(mode(a['Motor Vehicle']))\n",
    "print(mode(a['Bus Station']))"
   ]
  },
  {
   "cell_type": "code",
   "execution_count": 22,
   "id": "2722bb95",
   "metadata": {},
   "outputs": [
    {
     "data": {
      "text/plain": [
       "[(0.0, 45235), (100.0, 3871), (50.0, 3460)]"
      ]
     },
     "execution_count": 22,
     "metadata": {},
     "output_type": "execute_result"
    }
   ],
   "source": [
    "##4. What is the typical claim amount?\n",
    "from collections import Counter\n",
    "counted_list= Counter(list(df['Claim Amount']))\n",
    "top_claim_amts=counted_list.most_common(3)\n",
    "top_claim_amts"
   ]
  },
  {
   "cell_type": "code",
   "execution_count": 23,
   "id": "987a8918",
   "metadata": {},
   "outputs": [
    {
     "data": {
      "text/plain": [
       "0.17134450531427928"
      ]
     },
     "execution_count": 23,
     "metadata": {},
     "output_type": "execute_result"
    }
   ],
   "source": [
    "##5. What is the overall claim approval rate for the entire U.S.?\n",
    "\n",
    "a=df['Status'].to_list()\n",
    "a.count('Approved')/len(a)"
   ]
  },
  {
   "cell_type": "code",
   "execution_count": 24,
   "id": "f7e62610",
   "metadata": {},
   "outputs": [],
   "source": [
    "##6. If a claim is approved or settled, what percent of the claim amount do the airports pay?\n",
    "new_list = list(zip(df.loc[:]['Close Amount'], df.loc[:][\"Status\"],df.loc[:][\"Claim Amount\"]))\n"
   ]
  },
  {
   "cell_type": "markdown",
   "id": "e00d4ca1",
   "metadata": {},
   "source": [
    "Here, we take the total of the claim amount when the status is approved or settled. To get the amount that the airport pays, we subtract the close amount from the claim amount as the airport pays the difference. Then we take the percentage of it."
   ]
  },
  {
   "cell_type": "code",
   "execution_count": 27,
   "id": "312b67f4",
   "metadata": {},
   "outputs": [],
   "source": [
    "total_claim=0\n",
    "paid_by_airport=0\n",
    "for cls_amt,status,clm in new_list:\n",
    "    if status==\"Approved\" or status==\"Settled\":\n",
    "        total_claim+=clm\n",
    "        paid_by_airport+=clm-cls_amt"
   ]
  },
  {
   "cell_type": "code",
   "execution_count": 28,
   "id": "219ab25c",
   "metadata": {},
   "outputs": [
    {
     "data": {
      "text/plain": [
       "55.89950510373774"
      ]
     },
     "execution_count": 28,
     "metadata": {},
     "output_type": "execute_result"
    }
   ],
   "source": [
    "(paid_by_airport/total_claim)*100"
   ]
  },
  {
   "cell_type": "code",
   "execution_count": 29,
   "id": "56f38a57",
   "metadata": {},
   "outputs": [
    {
     "data": {
      "text/plain": [
       "John F. Kennedy International           9232\n",
       "Unknown                                 8959\n",
       "Los Angeles International Airport       7260\n",
       "Newark International Airport            6866\n",
       "Chicago O'Hare International Airport    6843\n",
       "Miami International Airport             6432\n",
       "Name: Airport Name, dtype: int64"
      ]
     },
     "execution_count": 29,
     "metadata": {},
     "output_type": "execute_result"
    }
   ],
   "source": [
    "##7. What are the five airports with the most claims?\n",
    "df['Airport Name'].value_counts().head(6)"
   ]
  },
  {
   "cell_type": "code",
   "execution_count": 30,
   "id": "3a824840",
   "metadata": {},
   "outputs": [
    {
     "data": {
      "image/png": "[encoded data removed]",
      "text/plain": [
       "<Figure size 432x288 with 1 Axes>"
      ]
     },
     "metadata": {
      "needs_background": "light"
     },
     "output_type": "display_data"
    }
   ],
   "source": [
    "##8. Has the total close amount increased or decreased over time?\n",
    "plt.plot(np.array(df[\"Close Amount\"].index), closeamt_array)\n",
    "plt.show()"
   ]
  },
  {
   "cell_type": "markdown",
   "id": "65f58006",
   "metadata": {},
   "source": [
    "When we look at the graph, we can see that the **close amount decreases over time**. How can we say that when we did not plot it using the dates or using time series analysis? When we look at the data, we can see that the claim dates are arranged in order from the year 2002 to 2015."
   ]
  }
 ],
 "metadata": {
  "kernelspec": {
   "display_name": "Python 3",
   "language": "python",
   "name": "python3"
  },
  "language_info": {
   "codemirror_mode": {
    "name": "ipython",
    "version": 3
   },
   "file_extension": ".py",
   "mimetype": "text/x-python",
   "name": "python",
   "nbconvert_exporter": "python",
   "pygments_lexer": "ipython3",
   "version": "3.8.8"
  }
 },
 "nbformat": 4,
 "nbformat_minor": 5
}
